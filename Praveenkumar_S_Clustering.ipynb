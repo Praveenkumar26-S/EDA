{
  "cells": [
    {
      "cell_type": "code",
      "execution_count": 4,
      "metadata": {
        "colab": {
          "base_uri": "https://localhost:8080/"
        },
        "id": "NYiKq6cPue-O",
        "outputId": "d876bf6e-f1f4-486f-cdb9-02fed2cb0fe0"
      },
      "outputs": [
        {
          "name": "stdout",
          "output_type": "stream",
          "text": [
            "  TransactionID CustomerID ProductID      TransactionDate  Quantity  \\\n",
            "0        T00001      C0199      P067  2024-08-25 12:38:23         1   \n",
            "1        T00112      C0146      P067  2024-05-27 22:23:54         1   \n",
            "2        T00166      C0127      P067  2024-04-25 07:38:55         1   \n",
            "3        T00272      C0087      P067  2024-03-26 22:55:37         2   \n",
            "4        T00363      C0070      P067  2024-03-21 15:10:10         3   \n",
            "\n",
            "   TotalValue  Price_x     CustomerName         Region  SignupDate  \\\n",
            "0      300.68   300.68   Andrea Jenkins         Europe  2022-12-03   \n",
            "1      300.68   300.68  Brittany Harvey           Asia  2024-09-04   \n",
            "2      300.68   300.68  Kathryn Stevens         Europe  2024-04-04   \n",
            "3      601.36   300.68  Travis Campbell  South America  2024-04-11   \n",
            "4      902.04   300.68    Timothy Perez         Europe  2022-03-15   \n",
            "\n",
            "                       ProductName     Category  Price_y  \n",
            "0  ComfortLiving Bluetooth Speaker  Electronics   300.68  \n",
            "1  ComfortLiving Bluetooth Speaker  Electronics   300.68  \n",
            "2  ComfortLiving Bluetooth Speaker  Electronics   300.68  \n",
            "3  ComfortLiving Bluetooth Speaker  Electronics   300.68  \n",
            "4  ComfortLiving Bluetooth Speaker  Electronics   300.68  \n"
          ]
        }
      ],
      "source": [
        "import pandas as pd\n",
        "\n",
        "# Load datasets\n",
        "customers = pd.read_csv('Customers.csv')\n",
        "products = pd.read_csv('Products.csv')\n",
        "transactions = pd.read_csv('Transactions.csv')\n",
        "\n",
        "# Merge datasets\n",
        "merged_data = transactions.merge(customers, on='CustomerID').merge(products, on='ProductID')\n",
        "\n",
        "# Preview merged data\n",
        "print(merged_data.head())\n"
      ]
    },
    {
      "cell_type": "code",
      "execution_count": 5,
      "metadata": {
        "colab": {
          "base_uri": "https://localhost:8080/"
        },
        "id": "koYThOEXur7I",
        "outputId": "ee2941e7-3c7d-42ee-f394-4abdc412d3fb"
      },
      "outputs": [
        {
          "name": "stdout",
          "output_type": "stream",
          "text": [
            "ProductName  ActiveWear Biography  ActiveWear Cookbook  \\\n",
            "CustomerID                                               \n",
            "C0001                         0.0                  0.0   \n",
            "C0002                         0.0                  0.0   \n",
            "C0003                         0.0                  0.0   \n",
            "C0004                         0.0                  0.0   \n",
            "C0005                         0.0                  0.0   \n",
            "\n",
            "ProductName  ActiveWear Cookware Set  ActiveWear Headphones  \\\n",
            "CustomerID                                                    \n",
            "C0001                            0.0                    0.0   \n",
            "C0002                            0.0                    0.0   \n",
            "C0003                            3.0                    0.0   \n",
            "C0004                            2.0                    0.0   \n",
            "C0005                            3.0                    0.0   \n",
            "\n",
            "ProductName  ActiveWear Jacket  ActiveWear Jeans  ActiveWear Rug  \\\n",
            "CustomerID                                                         \n",
            "C0001                      0.0               0.0             0.0   \n",
            "C0002                      0.0               0.0             0.0   \n",
            "C0003                      0.0               0.0             3.0   \n",
            "C0004                      0.0               0.0             0.0   \n",
            "C0005                      0.0               0.0             0.0   \n",
            "\n",
            "ProductName  ActiveWear Running Shoes  ActiveWear Smartphone  \\\n",
            "CustomerID                                                     \n",
            "C0001                             0.0                    0.0   \n",
            "C0002                             0.0                    0.0   \n",
            "C0003                             0.0                    0.0   \n",
            "C0004                             0.0                    0.0   \n",
            "C0005                             0.0                    0.0   \n",
            "\n",
            "ProductName  ActiveWear Smartwatch  ...  SoundWave Textbook  TechPro Cookbook  \\\n",
            "CustomerID                          ...                                         \n",
            "C0001                          2.0  ...                 0.0               0.0   \n",
            "C0002                          0.0  ...                 0.0               0.0   \n",
            "C0003                          4.0  ...                 0.0               0.0   \n",
            "C0004                          4.0  ...                 0.0               0.0   \n",
            "C0005                          0.0  ...                 0.0               0.0   \n",
            "\n",
            "ProductName  TechPro Headphones  TechPro Novel  TechPro Rug  \\\n",
            "CustomerID                                                    \n",
            "C0001                       3.0            0.0          0.0   \n",
            "C0002                       0.0            0.0          0.0   \n",
            "C0003                       0.0            0.0          0.0   \n",
            "C0004                       0.0            0.0          4.0   \n",
            "C0005                       0.0            0.0          0.0   \n",
            "\n",
            "ProductName  TechPro Running Shoes  TechPro Smartwatch  TechPro T-Shirt  \\\n",
            "CustomerID                                                                \n",
            "C0001                          0.0                 0.0              0.0   \n",
            "C0002                          0.0                 0.0              2.0   \n",
            "C0003                          0.0                 0.0              0.0   \n",
            "C0004                          0.0                 0.0              0.0   \n",
            "C0005                          0.0                 2.0              0.0   \n",
            "\n",
            "ProductName  TechPro Textbook  TechPro Vase  \n",
            "CustomerID                                   \n",
            "C0001                     0.0           0.0  \n",
            "C0002                     0.0           0.0  \n",
            "C0003                     0.0           0.0  \n",
            "C0004                     4.0           3.0  \n",
            "C0005                     0.0           0.0  \n",
            "\n",
            "[5 rows x 66 columns]\n"
          ]
        }
      ],
      "source": [
        "# Create a customer-product matrix\n",
        "customer_product_matrix = merged_data.pivot_table(\n",
        "    index='CustomerID',\n",
        "    columns='ProductName',\n",
        "    values='Quantity',\n",
        "    fill_value=0\n",
        ")\n",
        "\n",
        "# Check the matrix\n",
        "print(customer_product_matrix.head())\n"
      ]
    },
    {
      "cell_type": "code",
      "execution_count": 6,
      "metadata": {
        "colab": {
          "base_uri": "https://localhost:8080/"
        },
        "id": "KzJvQka5utSx",
        "outputId": "5c6e66a7-ad5a-4284-b29a-0eedbc91738f"
      },
      "outputs": [
        {
          "name": "stdout",
          "output_type": "stream",
          "text": [
            "CustomerID     C0001  C0002     C0003     C0004     C0005  C0006     C0007  \\\n",
            "CustomerID                                                                   \n",
            "C0001       1.000000    0.0  0.206559  0.210819  0.000000    0.0  0.286446   \n",
            "C0002       0.000000    1.0  0.000000  0.000000  0.000000    0.0  0.000000   \n",
            "C0003       0.206559    0.0  1.000000  0.359258  0.308697    0.0  0.110940   \n",
            "C0004       0.210819    0.0  0.359258  1.000000  0.168034    0.0  0.362329   \n",
            "C0005       0.000000    0.0  0.308697  0.168034  1.000000    0.0  0.000000   \n",
            "\n",
            "CustomerID     C0008     C0009     C0010  ...     C0191     C0192     C0193  \\\n",
            "CustomerID                                ...                                 \n",
            "C0001       0.101274  0.210819  0.000000  ...  0.123443  0.000000  0.233550   \n",
            "C0002       0.262071  0.000000  0.000000  ...  0.000000  0.000000  0.000000   \n",
            "C0003       0.313786  0.326599  0.000000  ...  0.095618  0.000000  0.000000   \n",
            "C0004       0.048038  0.266667  0.149854  ...  0.078072  0.000000  0.073855   \n",
            "C0005       0.000000  0.000000  0.000000  ...  0.000000  0.325396  0.000000   \n",
            "\n",
            "CustomerID     C0194     C0195     C0196     C0197  C0198     C0199  C0200  \n",
            "CustomerID                                                                  \n",
            "C0001       0.469668  0.000000  0.000000  0.135613    0.0  0.438178    0.0  \n",
            "C0002       0.194461  0.105851  0.000000  0.000000    0.0  0.000000    0.0  \n",
            "C0003       0.291043  0.000000  0.189737  0.000000    0.0  0.169706    0.0  \n",
            "C0004       0.316847  0.000000  0.000000  0.000000    0.0  0.092376    0.0  \n",
            "C0005       0.083189  0.000000  0.000000  0.000000    0.0  0.000000    0.0  \n",
            "\n",
            "[5 rows x 199 columns]\n"
          ]
        }
      ],
      "source": [
        "from sklearn.metrics.pairwise import cosine_similarity\n",
        "\n",
        "# Compute cosine similarity\n",
        "similarity_matrix = cosine_similarity(customer_product_matrix)\n",
        "\n",
        "# Convert to a DataFrame for readability\n",
        "customer_ids = customer_product_matrix.index\n",
        "similarity_df = pd.DataFrame(similarity_matrix, index=customer_ids, columns=customer_ids)\n",
        "\n",
        "# Check similarity matrix\n",
        "print(similarity_df.head())\n"
      ]
    },
    {
      "cell_type": "code",
      "execution_count": 7,
      "metadata": {
        "colab": {
          "base_uri": "https://localhost:8080/"
        },
        "id": "HZZThgKIu0QY",
        "outputId": "f4a919d5-f055-4361-983f-ae0bbc73eac3"
      },
      "outputs": [
        {
          "name": "stdout",
          "output_type": "stream",
          "text": [
            "{'C0001': [('C0050', 0.5838742081211422), ('C0097', 0.5477225575051661), ('C0105', 0.5465943944999485)], 'C0002': [('C0030', 0.6428571428571428), ('C0091', 0.3801987652174059), ('C0032', 0.3418817293789138)], 'C0003': [('C0164', 0.5547001962252291), ('C0140', 0.5487954724560282), ('C0134', 0.5199469468957452)], 'C0004': [('C0070', 0.4988876515698588), ('C0065', 0.4628257234351004), ('C0078', 0.46188021535170054)], 'C0005': [('C0096', 0.6482037235521645), ('C0164', 0.5707817929853929), ('C0055', 0.5144957554275265)], 'C0006': [('C0058', 0.6488856845230502), ('C0040', 0.5803810000880093), ('C0114', 0.47923383829852306)], 'C0007': [('C0025', 0.6689936080056726), ('C0020', 0.5883484054145521), ('C0079', 0.49613893835683387)], 'C0008': [('C0144', 0.39223227027636803), ('C0164', 0.38074980525429486), ('C0088', 0.33968311024337877)], 'C0009': [('C0056', 0.6123724356957946), ('C0140', 0.560112033611204), ('C0162', 0.5132649025747366)], 'C0010': [('C0058', 0.6488856845230502), ('C0040', 0.5803810000880093), ('C0013', 0.5419437309525751)], 'C0011': [('C0107', 0.6405126152203484), ('C0135', 0.4841820261350419), ('C0022', 0.47740991602628857)], 'C0012': [('C0110', 0.5333333333333333), ('C0101', 0.4437601569801833), ('C0055', 0.42426406871192845)], 'C0013': [('C0040', 0.5976143046671968), ('C0010', 0.5419437309525751), ('C0058', 0.5345224838248488)], 'C0014': [('C0128', 0.8944271909999159), ('C0159', 0.7844645405527362), ('C0136', 0.46188021535170054)], 'C0015': [('C0060', 0.9486832980505138), ('C0062', 0.7287986971610244), ('C0166', 0.6414269805898185)], 'C0016': [('C0196', 0.8113480845393758), ('C0187', 0.6449020216370241), ('C0052', 0.5966941897186162)], 'C0017': [('C0037', 0.55080945288825), ('C0028', 0.4291954491428779), ('C0071', 0.38490017945975047)], 'C0018': [('C0049', 0.574551657125233), ('C0177', 0.5416025603090641), ('C0020', 0.4923659639173309)], 'C0019': [('C0020', 0.6), ('C0083', 0.48989794855663565), ('C0064', 0.4879954250643349)], 'C0020': [('C0026', 0.7844645405527362), ('C0050', 0.6396021490668313), ('C0179', 0.6324555320336759)]}\n"
          ]
        }
      ],
      "source": [
        "lookalike_results = {}\n",
        "\n",
        "for customer in similarity_df.index[:20]:  # First 20 customers\n",
        "    similar_customers = similarity_df.loc[customer].sort_values(ascending=False).iloc[1:4]  # Exclude self (first row)\n",
        "    lookalike_results[customer] = list(similar_customers.items())\n",
        "\n",
        "# Check results\n",
        "print(lookalike_results)\n"
      ]
    },
    {
      "cell_type": "code",
      "execution_count": 8,
      "metadata": {
        "id": "sUDgv9YDu6bu"
      },
      "outputs": [],
      "source": [
        "# Convert lookalike results to the required format\n",
        "lookalike_df = pd.DataFrame([\n",
        "    {'CustomerID': k, 'Lookalikes': v} for k, v in lookalike_results.items()\n",
        "])\n",
        "\n",
        "# Save to CSV\n",
        "lookalike_df.to_csv('Praveenkumar_S_Lookalike.csv', index=False)\n"
      ]
    },
    {
      "cell_type": "code",
      "execution_count": 9,
      "metadata": {
        "id": "G4jPdZtOu_WI"
      },
      "outputs": [],
      "source": [
        "lookalike_results = {\n",
        "    'C0001': [('C0005', 0.92), ('C0002', 0.88), ('C0003', 0.85)],\n",
        "    'C0002': [('C0003', 0.91), ('C0001', 0.88), ('C0004', 0.83)],\n",
        "}\n"
      ]
    },
    {
      "cell_type": "code",
      "execution_count": 10,
      "metadata": {
        "colab": {
          "base_uri": "https://localhost:8080/"
        },
        "id": "H1pbNzNUvDjO",
        "outputId": "0f238e4f-9e51-4b69-b6a7-011104ad9459"
      },
      "outputs": [
        {
          "name": "stdout",
          "output_type": "stream",
          "text": [
            "  CustomerID LookalikeID  SimilarityScore\n",
            "0      C0001       C0005             0.92\n",
            "1      C0001       C0002             0.88\n",
            "2      C0001       C0003             0.85\n",
            "3      C0002       C0003             0.91\n",
            "4      C0002       C0001             0.88\n"
          ]
        }
      ],
      "source": [
        "import pandas as pd\n",
        "\n",
        "# Convert the lookalike results into a DataFrame\n",
        "lookalike_data = []\n",
        "\n",
        "for customer, lookalikes in lookalike_results.items():\n",
        "    for similar_customer, score in lookalikes:\n",
        "        lookalike_data.append({\n",
        "            'CustomerID': customer,\n",
        "            'LookalikeID': similar_customer,\n",
        "            'SimilarityScore': score\n",
        "        })\n",
        "\n",
        "# Create a DataFrame\n",
        "lookalike_df = pd.DataFrame(lookalike_data)\n",
        "\n",
        "# Preview the DataFrame\n",
        "print(lookalike_df.head())\n"
      ]
    },
    {
      "cell_type": "code",
      "execution_count": 11,
      "metadata": {
        "colab": {
          "base_uri": "https://localhost:8080/"
        },
        "id": "SlLQDcclwVzN",
        "outputId": "22a4aeaf-1947-4bd7-ac94-1b9471192e5e"
      },
      "outputs": [
        {
          "name": "stdout",
          "output_type": "stream",
          "text": [
            "  TransactionID CustomerID ProductID      TransactionDate  Quantity  \\\n",
            "0        T00001      C0199      P067  2024-08-25 12:38:23         1   \n",
            "1        T00112      C0146      P067  2024-05-27 22:23:54         1   \n",
            "2        T00166      C0127      P067  2024-04-25 07:38:55         1   \n",
            "3        T00272      C0087      P067  2024-03-26 22:55:37         2   \n",
            "4        T00363      C0070      P067  2024-03-21 15:10:10         3   \n",
            "\n",
            "   TotalValue   Price     CustomerName         Region  SignupDate  \n",
            "0      300.68  300.68   Andrea Jenkins         Europe  2022-12-03  \n",
            "1      300.68  300.68  Brittany Harvey           Asia  2024-09-04  \n",
            "2      300.68  300.68  Kathryn Stevens         Europe  2024-04-04  \n",
            "3      601.36  300.68  Travis Campbell  South America  2024-04-11  \n",
            "4      902.04  300.68    Timothy Perez         Europe  2022-03-15  \n"
          ]
        }
      ],
      "source": [
        "import pandas as pd\n",
        "\n",
        "# Load datasets\n",
        "customers = pd.read_csv('Customers.csv')\n",
        "transactions = pd.read_csv('Transactions.csv')\n",
        "\n",
        "# Merge datasets\n",
        "merged_data = transactions.merge(customers, on='CustomerID')\n",
        "\n",
        "# Check data\n",
        "print(merged_data.head())\n"
      ]
    },
    {
      "cell_type": "code",
      "execution_count": 12,
      "metadata": {
        "colab": {
          "base_uri": "https://localhost:8080/"
        },
        "id": "3vZzOCjLwajy",
        "outputId": "ea237e1e-035f-4f22-8e93-3af39920bddd"
      },
      "outputs": [
        {
          "name": "stdout",
          "output_type": "stream",
          "text": [
            "  CustomerID  Total_Spent  Transaction_Count   Avg_Price  Region_Europe  \\\n",
            "0      C0001      3354.52                  5  278.334000          False   \n",
            "1      C0002      1862.74                  4  208.920000          False   \n",
            "2      C0003      2725.38                  4  195.707500          False   \n",
            "3      C0004      5354.88                  8  240.636250          False   \n",
            "4      C0005      2034.24                  3  291.603333          False   \n",
            "\n",
            "   Region_North America  Region_South America  \n",
            "0                 False                  True  \n",
            "1                 False                 False  \n",
            "2                 False                  True  \n",
            "3                 False                  True  \n",
            "4                 False                 False  \n"
          ]
        }
      ],
      "source": [
        "# Feature aggregation\n",
        "customer_features = merged_data.groupby('CustomerID').agg({\n",
        "    'TotalValue': 'sum',\n",
        "    'TransactionID': 'count',\n",
        "    'Price': 'mean'\n",
        "}).rename(columns={\n",
        "    'TotalValue': 'Total_Spent',\n",
        "    'TransactionID': 'Transaction_Count',\n",
        "    'Price': 'Avg_Price'\n",
        "})\n",
        "\n",
        "# Add customer profile information\n",
        "customer_features = customer_features.merge(\n",
        "    customers[['CustomerID', 'Region']], on='CustomerID'\n",
        ")\n",
        "\n",
        "# Encode categorical data (e.g., Region)\n",
        "customer_features = pd.get_dummies(customer_features, columns=['Region'], drop_first=True)\n",
        "\n",
        "# Check features\n",
        "print(customer_features.head())\n"
      ]
    },
    {
      "cell_type": "code",
      "execution_count": 13,
      "metadata": {
        "colab": {
          "base_uri": "https://localhost:8080/"
        },
        "id": "VIdKjPKUweH3",
        "outputId": "2782258e-6757-44cb-f9af-ab49fc04e5b1"
      },
      "outputs": [
        {
          "name": "stdout",
          "output_type": "stream",
          "text": [
            "[[-0.06170143 -0.01145819  0.09467022 -0.57928445 -0.54831888  1.54041597]\n",
            " [-0.87774353 -0.46749414 -0.90401592 -0.57928445 -0.54831888 -0.6491753 ]\n",
            " [-0.40585722 -0.46749414 -1.09410928 -0.57928445 -0.54831888  1.54041597]\n",
            " [ 1.03254704  1.35664965 -0.44770193 -0.57928445 -0.54831888  1.54041597]\n",
            " [-0.78392861 -0.92353008  0.28558127 -0.57928445 -0.54831888 -0.6491753 ]]\n"
          ]
        }
      ],
      "source": [
        "from sklearn.preprocessing import StandardScaler\n",
        "\n",
        "# Standardize the data\n",
        "scaler = StandardScaler()\n",
        "scaled_features = scaler.fit_transform(customer_features.drop('CustomerID', axis=1))\n",
        "\n",
        "# Check scaled features\n",
        "print(scaled_features[:5])\n"
      ]
    },
    {
      "cell_type": "code",
      "execution_count": 14,
      "metadata": {
        "colab": {
          "base_uri": "https://localhost:8080/",
          "height": 487
        },
        "id": "OHNZLER-woF4",
        "outputId": "c4918a6b-b8e6-4426-9fef-2bc670cc8065"
      },
      "outputs": [
        {
          "data": {
            "image/png": "[encoded data removed]",
            "text/plain": [
              "<Figure size 800x500 with 1 Axes>"
            ]
          },
          "metadata": {},
          "output_type": "display_data"
        }
      ],
      "source": [
        "from sklearn.cluster import KMeans\n",
        "import matplotlib.pyplot as plt\n",
        "\n",
        "# Elbow method to find optimal k\n",
        "inertia = []\n",
        "k_values = range(2, 10)  # Try cluster sizes from 2 to 10\n",
        "\n",
        "for k in k_values:\n",
        "    kmeans = KMeans(n_clusters=k, random_state=42)\n",
        "    kmeans.fit(scaled_features)\n",
        "    inertia.append(kmeans.inertia_)\n",
        "\n",
        "# Plot inertia\n",
        "plt.figure(figsize=(8, 5))\n",
        "plt.plot(k_values, inertia, marker='o')\n",
        "plt.title(\"Elbow Method\")\n",
        "plt.xlabel(\"Number of Clusters (k)\")\n",
        "plt.ylabel(\"Inertia\")\n",
        "plt.show()\n"
      ]
    },
    {
      "cell_type": "code",
      "execution_count": 18,
      "metadata": {
        "id": "8jCa01-zxYBY"
      },
      "outputs": [],
      "source": [
        "# Assuming optimal k = 4 (based on elbow plot)\n",
        "kmeans = KMeans(n_clusters=4, random_state=42)\n",
        "clusters = kmeans.fit_predict(scaled_features)\n",
        "\n",
        "# Add cluster labels to customer features\n",
        "customer_features['Cluster'] = clusters\n"
      ]
    },
    {
      "cell_type": "code",
      "execution_count": 19,
      "metadata": {
        "colab": {
          "base_uri": "https://localhost:8080/"
        },
        "id": "apMAAKWHxcfs",
        "outputId": "25ceb293-a38b-4fd4-a8d7-99e285cc893c"
      },
      "outputs": [
        {
          "name": "stdout",
          "output_type": "stream",
          "text": [
            "Davies-Bouldin Index: 1.290983529547829\n"
          ]
        }
      ],
      "source": [
        "from sklearn.metrics import davies_bouldin_score\n",
        "\n",
        "db_index = davies_bouldin_score(scaled_features, clusters)\n",
        "print(f\"Davies-Bouldin Index: {db_index}\")\n"
      ]
    },
    {
      "cell_type": "code",
      "execution_count": 20,
      "metadata": {
        "colab": {
          "base_uri": "https://localhost:8080/",
          "height": 564
        },
        "id": "7NmIR-wdxevt",
        "outputId": "a592aef7-27e1-4d32-d723-0e192645eb45"
      },
      "outputs": [
        {
          "data": {
            "image/png": "[encoded data removed]",
            "text/plain": [
              "<Figure size 1000x600 with 1 Axes>"
            ]
          },
          "metadata": {},
          "output_type": "display_data"
        }
      ],
      "source": [
        "from sklearn.decomposition import PCA\n",
        "import seaborn as sns\n",
        "\n",
        "# Reduce dimensions for visualization\n",
        "pca = PCA(n_components=2)\n",
        "reduced_features = pca.fit_transform(scaled_features)\n",
        "\n",
        "# Create a DataFrame for visualization\n",
        "visualization_df = pd.DataFrame(reduced_features, columns=['PCA1', 'PCA2'])\n",
        "visualization_df['Cluster'] = clusters\n",
        "\n",
        "# Plot clusters\n",
        "plt.figure(figsize=(10, 6))\n",
        "sns.scatterplot(\n",
        "    x='PCA1', y='PCA2', hue='Cluster', data=visualization_df, palette='Set2'\n",
        ")\n",
        "plt.title(\"Customer Clusters\")\n",
        "plt.show()\n"
      ]
    }
  ],
  "metadata": {
    "colab": {
      "provenance": []
    },
    "kernelspec": {
      "display_name": "Python 3",
      "name": "python3"
    },
    "language_info": {
      "name": "python"
    }
  },
  "nbformat": 4,
  "nbformat_minor": 0
}
